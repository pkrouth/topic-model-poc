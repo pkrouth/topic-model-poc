{
 "cells": [
  {
   "cell_type": "markdown",
   "metadata": {},
   "source": [
    "# Topic Modeling\n",
    "\n",
    "## Input: \n",
    "### From: Data_preprocessing_Tokenization.ipnyb \n",
    "* Serialized Corpus\n",
    "* dictionary\n",
    "\n",
    "## Changelog:\n",
    "### 2016-07-18\n",
    "* Modules separated\n",
    "* Separated from Topic Model v6\n",
    "* \n",
    "\n",
    "### 2016-07-11:\n",
    "* wordcloud of topics\n",
    "\n"
   ]
  },
  {
   "cell_type": "code",
   "execution_count": 1,
   "metadata": {
    "collapsed": true
   },
   "outputs": [],
   "source": [
    "# Logging\n",
    "\n",
    "import logging\n",
    "logging.basicConfig(filename='./logfile.log', format='%(asctime)s : %(levelname)s : %(message)s', level=logging.INFO)\n"
   ]
  },
  {
   "cell_type": "code",
   "execution_count": 2,
   "metadata": {
    "collapsed": true
   },
   "outputs": [],
   "source": [
    "# import stuff\n",
    "import gensim\n",
    "from gensim import *\n",
    "from wordcloud import WordCloud, STOPWORDS"
   ]
  },
  {
   "cell_type": "code",
   "execution_count": 3,
   "metadata": {
    "collapsed": true
   },
   "outputs": [],
   "source": [
    "# Load corpora and dictionary\n",
    "sercorpus = corpora.MmCorpus('ser2800corpus.mm')\n",
    "dictionary= corpora.Dictionary.load('texts2800dict.dict')\n",
    "print(dictionary)"
   ]
  },
  {
   "cell_type": "code",
   "execution_count": 4,
   "metadata": {
    "collapsed": true
   },
   "outputs": [],
   "source": [
    "# TF-IDF Transfromation\n",
    "tfidf = models.TfidfModel(sercorpus)\n",
    "corpus_tfidf = tfidf[sercorpus]\n",
    "#for doc in corpus_tfidf:\n",
    " #   print(doc[1:5])"
   ]
  },
  {
   "cell_type": "markdown",
   "metadata": {},
   "source": [
    "## 1. LDA Model"
   ]
  },
  {
   "cell_type": "code",
   "execution_count": null,
   "metadata": {
    "collapsed": true
   },
   "outputs": [],
   "source": [
    "model_lda = models.ldamodel.LdaModel(corpus_tfidf, id2word=dictionary, num_topics=15, \n",
    "                        update_every=1, chunksize=10000, passes=20) #Intiationalization of LDA model\n",
    "corpus_lda = model_lda[corpus_tfidf]  # bow > tfidf > fold-in-lda"
   ]
  },
  {
   "cell_type": "code",
   "execution_count": 5,
   "metadata": {
    "collapsed": true
   },
   "outputs": [],
   "source": [
    "#Save/Export: LDA Model\n"
   ]
  },
  {
   "cell_type": "code",
   "execution_count": null,
   "metadata": {
    "collapsed": true
   },
   "outputs": [],
   "source": []
  },
  {
   "cell_type": "markdown",
   "metadata": {},
   "source": [
    "### Word Cloud: LDA Topics"
   ]
  },
  {
   "cell_type": "code",
   "execution_count": null,
   "metadata": {
    "collapsed": true
   },
   "outputs": [],
   "source": [
    "topics=model_lda.show_topics(num_topics=15, formatted=False)"
   ]
  },
  {
   "cell_type": "code",
   "execution_count": null,
   "metadata": {
    "collapsed": true
   },
   "outputs": [],
   "source": [
    "cloud = WordCloud()\n",
    "for n,topic in enumerate(topics):\n",
    "    wcloud = cloud.fit_words(topic[1])\n",
    "    wcloud.to_file('./topics/Topic_'+str(n)+'.jpg')"
   ]
  },
  {
   "cell_type": "markdown",
   "metadata": {},
   "source": [
    "## 2. HDP Model\n",
    "#### Hierarchial Dirichliet Process"
   ]
  },
  {
   "cell_type": "code",
   "execution_count": null,
   "metadata": {
    "collapsed": true
   },
   "outputs": [],
   "source": [
    "from time import time\n",
    "start =  time()\n",
    "model_HDP = models.HdpModel(corpus_tfidf, id2word=dictionary)\n",
    "\n",
    "print 'Cell took %.2f seconds to run.' %(time()-start)"
   ]
  },
  {
   "cell_type": "code",
   "execution_count": 7,
   "metadata": {
    "collapsed": true
   },
   "outputs": [],
   "source": [
    "#Save/Export Model"
   ]
  },
  {
   "cell_type": "code",
   "execution_count": null,
   "metadata": {
    "collapsed": true
   },
   "outputs": [],
   "source": [
    "### Word Cloud HDP"
   ]
  },
  {
   "cell_type": "code",
   "execution_count": null,
   "metadata": {
    "collapsed": true
   },
   "outputs": [],
   "source": [
    "model_HDP.print_topics()"
   ]
  },
  {
   "cell_type": "code",
   "execution_count": 6,
   "metadata": {
    "collapsed": true
   },
   "outputs": [],
   "source": [
    "# Word Cloud for topics"
   ]
  },
  {
   "cell_type": "code",
   "execution_count": null,
   "metadata": {
    "collapsed": true
   },
   "outputs": [],
   "source": []
  }
 ],
 "metadata": {
  "kernelspec": {
   "display_name": "Python 2",
   "language": "python",
   "name": "python2"
  },
  "language_info": {
   "codemirror_mode": {
    "name": "ipython",
    "version": 2
   },
   "file_extension": ".py",
   "mimetype": "text/x-python",
   "name": "python",
   "nbconvert_exporter": "python",
   "pygments_lexer": "ipython2",
   "version": "2.7.11"
  }
 },
 "nbformat": 4,
 "nbformat_minor": 0
}
