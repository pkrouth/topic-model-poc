{
 "cells": [
  {
   "cell_type": "markdown",
   "metadata": {},
   "source": [
    "# Similarity Testing and Visulization\n",
    "## Input: \n",
    "### From: Topic_Modeling_Parameters.ipnyb \n",
    "* model_LDA\n",
    "* model_HDP\n",
    "* serialized corpus\n",
    "* dictionary\n",
    "## Changelog:\n",
    "* Modules separated\n",
    "* Separated from Topic Model v6\n"
   ]
  },
  {
   "cell_type": "code",
   "execution_count": null,
   "metadata": {
    "collapsed": true
   },
   "outputs": [],
   "source": [
    "# Logging\n",
    "import logging\n",
    "logging.basicConfig(filename='./logfile.log', format='%(asctime)s : %(levelname)s : %(message)s', level=logging.INFO)\n"
   ]
  },
  {
   "cell_type": "code",
   "execution_count": null,
   "metadata": {
    "collapsed": true
   },
   "outputs": [],
   "source": [
    "#import stuff\n",
    "import gensim\n",
    "from gensim import *\n",
    "import re, os, string, timeit "
   ]
  },
  {
   "cell_type": "code",
   "execution_count": null,
   "metadata": {
    "collapsed": false
   },
   "outputs": [],
   "source": [
    "# Load inputs\n",
    "# Load corpora and dictionary\n",
    "sercorpus = corpora.MmCorpus('ser2800corpus.mm')\n",
    "dictionary= corpora.Dictionary.load('texts2800dict.dict')\n",
    "print(dictionary)\n",
    "#Load Models"
   ]
  },
  {
   "cell_type": "code",
   "execution_count": null,
   "metadata": {
    "collapsed": true
   },
   "outputs": [],
   "source": [
    "#Search Query\n",
    "#doc = \"House allotment\"\n",
    "file = open('data/Case-32.txt','r')\n",
    "doc = file.read()\n",
    "vec_bow = dictionary.doc2bow(doc.lower().split()) "
   ]
  },
  {
   "cell_type": "code",
   "execution_count": null,
   "metadata": {
    "collapsed": true
   },
   "outputs": [],
   "source": [
    "#Search_vectors\n",
    "vec_lda = model_lda[vec_bow]\n",
    "vec_HDP = model_HDP[vec_bow]\n",
    "print(vec_lda)\n",
    "print(vec_HDP)"
   ]
  },
  {
   "cell_type": "markdown",
   "metadata": {},
   "source": [
    "## 1. LDA Similarity"
   ]
  },
  {
   "cell_type": "code",
   "execution_count": null,
   "metadata": {
    "collapsed": true
   },
   "outputs": [],
   "source": [
    "index = similarities.MatrixSimilarity(model_lda[sercorpus]) #Keeps the index in RAM. Use shards for less RAM usage.\n",
    "index.save('ser2800corplda.index')\n",
    "index = similarities.MatrixSimilarity.load('ser2800corplda.index') \n",
    "sims = index[vec_lda]\n",
    "sims = sorted(enumerate(sims), key=lambda item: -item[1]) #descending order\n",
    "#print(sims) "
   ]
  },
  {
   "cell_type": "code",
   "execution_count": null,
   "metadata": {
    "collapsed": false
   },
   "outputs": [],
   "source": [
    "index.num_best=5\n",
    "index[vec_lda]\n"
   ]
  },
  {
   "cell_type": "markdown",
   "metadata": {},
   "source": [
    "## 2. HDP Similarity"
   ]
  },
  {
   "cell_type": "code",
   "execution_count": null,
   "metadata": {
    "collapsed": false
   },
   "outputs": [],
   "source": [
    "index = similarities.MatrixSimilarity(model_HDP[sercorpus]) #Keeps the index in RAM. Use shards for less RAM usage.\n",
    "index.save('ser2800corpHDP.index')\n",
    "index = similarities.MatrixSimilarity.load('ser2800corpHDP.index') \n",
    "#sims_HDP = index[vec_lda]\n",
    "#sims_HDP = sorted(enumerate(sims_HDP), key=lambda item: -item[1]) #descending order\n",
    "#print(sims_HDP) \n",
    "index.num_best=5\n",
    "index[vec_HDP]"
   ]
  },
  {
   "cell_type": "code",
   "execution_count": null,
   "metadata": {
    "collapsed": true
   },
   "outputs": [],
   "source": []
  }
 ],
 "metadata": {
  "kernelspec": {
   "display_name": "Python 2",
   "language": "python",
   "name": "python2"
  },
  "language_info": {
   "codemirror_mode": {
    "name": "ipython",
    "version": 2
   },
   "file_extension": ".py",
   "mimetype": "text/x-python",
   "name": "python",
   "nbconvert_exporter": "python",
   "pygments_lexer": "ipython2",
   "version": "2.7.11"
  }
 },
 "nbformat": 4,
 "nbformat_minor": 0
}
