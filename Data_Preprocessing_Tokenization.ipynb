{
 "cells": [
  {
   "cell_type": "markdown",
   "metadata": {},
   "source": [
    "# Data Pre-Processing"
   ]
  },
  {
   "cell_type": "markdown",
   "metadata": {},
   "source": [
    "#### Change Log\n",
    "* Modules\n",
    "* Separated from Gensim_Test_ver5\n",
    "* Exporting to private repo in Github\n",
    "\n",
    "### 2016-07-11\n",
    "* added Indian Names as stoplist. (Output needs verification)\n",
    "* Introducing Spell check before tokenizer \n",
    "* Skip - and . to preserve hyphenated words "
   ]
  },
  {
   "cell_type": "code",
   "execution_count": null,
   "metadata": {
    "collapsed": true
   },
   "outputs": [],
   "source": [
    "import logging\n",
    "logging.basicConfig(filename='./logfile.log', format='%(asctime)s : %(levelname)s : %(message)s', level=logging.INFO)\n"
   ]
  },
  {
   "cell_type": "code",
   "execution_count": 1,
   "metadata": {
    "collapsed": true
   },
   "outputs": [],
   "source": [
    "# Import Stuffs\n",
    "import gensim\n",
    "from gensim import *\n",
    "import re, os, string, timeit \n",
    "from nltk.stem.porter import PorterStemmer\n",
    "#table = string.maketrans(\"\",\"\")\n",
    "p_stemmer = PorterStemmer()"
   ]
  },
  {
   "cell_type": "code",
   "execution_count": 2,
   "metadata": {
    "collapsed": true
   },
   "outputs": [],
   "source": [
    "# Stop_list\n",
    "## To do: Import English stoplist from nltk\n",
    "#Todo: Add this as a separate file\n",
    "# Todo: Add nameslist as stop parameter. Avaialble in indian_names.txt\n",
    "\n",
    "stoplist=set('''court supreme in as xx xxx\n",
    "                on or by that is was are were no not vs be being been has have had case \n",
    "                he she I one every least less many now ever never say says said also get\n",
    "                go goes just made make put see seen whether like well back even still way\n",
    "                take since another however two three four five six seven eight nine ten \n",
    "                first second new old high \n",
    "                long and but if or because as until while  of at by for with about against\n",
    "                between into through during before after above below to from up down in out\n",
    "                on off over under  again further then once  here there when where why how\n",
    "                all any both each few more most other some such  no nor not only own same\n",
    "                so than too very what which who whom this that these those they them their\n",
    "                theirs themselves it its itself she her herself he his him himself you your\n",
    "                yours yourself yourselves our ours ourselves us thou we me my myself i am \n",
    "                is are was were be been being have has had having do does did doing will \n",
    "                would shall should can could may might must ought a an the'''.split())"
   ]
  },
  {
   "cell_type": "code",
   "execution_count": 3,
   "metadata": {
    "collapsed": true
   },
   "outputs": [],
   "source": [
    "# Stop_list: Indian Names\n",
    "names = open('../indian_names.txt','rb').read().split()\n",
    "nameset=set(names)\n",
    "stoplist |= nameset"
   ]
  },
  {
   "cell_type": "code",
   "execution_count": 4,
   "metadata": {
    "collapsed": true
   },
   "outputs": [],
   "source": [
    "# Stop_list: Indian City Names"
   ]
  },
  {
   "cell_type": "code",
   "execution_count": 5,
   "metadata": {
    "collapsed": true
   },
   "outputs": [],
   "source": [
    "# Spell Check module\n",
    "from enchant import DictWithPWL ##Needs pyenchant installed\n",
    "from enchant.checker import SpellChecker\n",
    "my_dict = DictWithPWL(\"en_US\", \"../indian_names.txt\")\n",
    "chkr = SpellChecker(my_dict)"
   ]
  },
  {
   "cell_type": "markdown",
   "metadata": {},
   "source": [
    "## Gensim Module\n"
   ]
  },
  {
   "cell_type": "markdown",
   "metadata": {},
   "source": [
    "### Tokenization, Corpus and Dictionary Generation"
   ]
  },
  {
   "cell_type": "code",
   "execution_count": null,
   "metadata": {
    "collapsed": true
   },
   "outputs": [],
   "source": [
    "def iter_documents(top_directory):\n",
    "    \"\"\"Iterate over all documents, yielding a document (=list of utf8 tokens) at a time.\"\"\"\n",
    "    for root, dirs, files in os.walk(top_directory):\n",
    "        for file in filter(lambda file: file.endswith('.txt'), files):\n",
    "            document = open(os.path.join(root, file)).read() # read the entire document, as one big string\n",
    "            #document_clean = document.translate(table, '!@#$%^&*()_-+={}[]:;\"\\'|<>,.?/~`1234567890')\n",
    "            document_clean = re.sub('[^a-zA-Z0-9]', ' ', document) #Replaces any non-alphanumeric char to space\n",
    "            #wrong_spells(document_clean)\n",
    "            yield [i for i in gensim.utils.tokenize(document_clean, lower=True)] \n",
    "            \n",
    "class MyCorpus(object):\n",
    "    def __init__(self, top_dir):\n",
    "        self.top_dir = top_dir\n",
    "        self.dictionary = gensim.corpora.Dictionary(iter_documents(top_dir))\n",
    "        self.dictionary.filter_extremes(no_below=2, keep_n=30000) # check API docs for pruning params\n",
    "        stop_ids = [self.dictionary.token2id[stopword] for stopword in stoplist if stopword in self.dictionary.token2id]\n",
    "        wrong_spell_ids = [chkr.check(word) for word in self.dictionary.token2id]\n",
    "        self.dictionary.filter_tokens(stop_ids)\n",
    "        self.dictionary.filter_tokens(wrong_spell_ids)\n",
    "        self.dictionary.compactify()\n",
    "        self.dictionary.save('texts2800dict.dict')\n",
    "    def __iter__(self):\n",
    "        for tokens in iter_documents(self.top_dir):\n",
    "            yield self.dictionary.doc2bow(tokens)\n",
    "\n",
    "corpus = MyCorpus('texts_redo') # create a dictionary\n",
    "#for vector in corpus: # convert each document to a bag-of-word vector\n",
    " #   print vector\n",
    "corpora.MmCorpus.serialize('ser2800corpus.mm', corpus) #Multiple formats available"
   ]
  },
  {
   "cell_type": "markdown",
   "metadata": {},
   "source": [
    "#### Output \n",
    "* Serialized Corpus\n",
    "* dictionary"
   ]
  },
  {
   "cell_type": "code",
   "execution_count": null,
   "metadata": {
    "collapsed": true
   },
   "outputs": [],
   "source": [
    "sercorpus = corpora.MmCorpus('ser2800corpus.mm')\n",
    "dictionary= corpora.Dictionary.load('texts2800dict.dict')\n",
    "print(dictionary)"
   ]
  }
 ],
 "metadata": {
  "kernelspec": {
   "display_name": "Python 2",
   "language": "python",
   "name": "python2"
  },
  "language_info": {
   "codemirror_mode": {
    "name": "ipython",
    "version": 2
   },
   "file_extension": ".py",
   "mimetype": "text/x-python",
   "name": "python",
   "nbconvert_exporter": "python",
   "pygments_lexer": "ipython2",
   "version": "2.7.11"
  }
 },
 "nbformat": 4,
 "nbformat_minor": 0
}
